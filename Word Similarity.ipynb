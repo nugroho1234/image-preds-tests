{
 "cells": [
  {
   "cell_type": "code",
   "execution_count": 1,
   "metadata": {},
   "outputs": [],
   "source": [
    "#import\n",
    "import os\n",
    "import nltk\n",
    "import pandas as pd\n",
    "import numpy as np\n",
    "import time"
   ]
  },
  {
   "cell_type": "markdown",
   "metadata": {},
   "source": [
    "Get the product names and get the one word product names. This should be changed accordingly from the os."
   ]
  },
  {
   "cell_type": "code",
   "execution_count": 2,
   "metadata": {},
   "outputs": [],
   "source": [
    "#get product names\n",
    "product_names = os.listdir('FOTO BARANG JIMS HONEY')"
   ]
  },
  {
   "cell_type": "code",
   "execution_count": 12,
   "metadata": {},
   "outputs": [],
   "source": [
    "def one_word_names(list_of_product_names):\n",
    "    one_word_names = []\n",
    "    for name in product_names:\n",
    "        name_list = name.split(' ')\n",
    "        length = len(name_list)\n",
    "        if name_list[length - 1] == 'bag' or name_list[length - 1] == 'wallet':\n",
    "            one_word_names.append(name_list[0])\n",
    "        else:\n",
    "            one_word_names.append(name_list[length - 1])\n",
    "    return one_word_names"
   ]
  },
  {
   "cell_type": "code",
   "execution_count": 13,
   "metadata": {},
   "outputs": [],
   "source": [
    "input_qs = 'marry bag'"
   ]
  },
  {
   "cell_type": "code",
   "execution_count": 16,
   "metadata": {},
   "outputs": [],
   "source": [
    "def compute_distance(input_qs, product_names):\n",
    "    start_time = time.clock()\n",
    "    product_df = pd.DataFrame()\n",
    "    #if the input is more than 1 word\n",
    "    if len(input_qs.split(' ')) > 1:\n",
    "        for i in range(len(product_names)):\n",
    "            product_names[i] = product_names[i].lower()\n",
    "            distance = nltk.edit_distance(input_qs, product_names[i])\n",
    "            product_df = product_df.append({'product': product_names[i], 'distance': distance}, ignore_index=True)\n",
    "    else: #if the input is one word\n",
    "        one_word_names = one_word_names(product_names)\n",
    "        for i in range(len(one_word_names)):\n",
    "            one_word_names[i] = one_word_names[i].lower()\n",
    "            distance = nltk.edit_distance(input_qs, one_word_names[i])\n",
    "            product_df = product_df.append({'product': one_word_names[i], 'distance': distance}, ignore_index=True)\n",
    "    \n",
    "    #sort values based on distance\n",
    "    did_you_mean = product_df[product_df['distance']<4].sort_values('distance')\n",
    "    prod_name = did_you_mean['product'].tolist()\n",
    "    distance_prod = did_you_mean['distance'].tolist()\n",
    "    \n",
    "    #create json \n",
    "    dict_json = dict()\n",
    "    data_list = []\n",
    "\n",
    "    for i in range(len(prod_name)):\n",
    "        #time_start = time.clock()\n",
    "        dict_test = dict()\n",
    "        dict_test['name'] = prod_name[i]\n",
    "        dict_test['distance'] = distance_prod[i]\n",
    "        data_list.append(dict_test)\n",
    "    dict_json['data'] = data_list\n",
    "    dict_json['time'] = time.clock() - start_time\n",
    "    return dict_json"
   ]
  },
  {
   "cell_type": "code",
   "execution_count": 15,
   "metadata": {},
   "outputs": [
    {
     "data": {
      "text/plain": [
       "{'data': [{'distance': 1.0, 'name': 'mary bag'},\n",
       "  {'distance': 3.0, 'name': 'baby bag'},\n",
       "  {'distance': 3.0, 'name': 'kara bag'},\n",
       "  {'distance': 3.0, 'name': 'tammy bag'}],\n",
       " 'time': 0.09810506598698222}"
      ]
     },
     "execution_count": 15,
     "metadata": {},
     "output_type": "execute_result"
    }
   ],
   "source": [
    "compute_distance(input_qs, product_names)"
   ]
  }
 ],
 "metadata": {
  "kernelspec": {
   "display_name": "Python [conda env:anaconda]",
   "language": "python",
   "name": "conda-env-anaconda-py"
  },
  "language_info": {
   "codemirror_mode": {
    "name": "ipython",
    "version": 3
   },
   "file_extension": ".py",
   "mimetype": "text/x-python",
   "name": "python",
   "nbconvert_exporter": "python",
   "pygments_lexer": "ipython3",
   "version": "3.5.6"
  }
 },
 "nbformat": 4,
 "nbformat_minor": 2
}
